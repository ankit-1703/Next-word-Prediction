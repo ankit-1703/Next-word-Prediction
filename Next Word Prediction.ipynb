{
 "cells": [
  {
   "cell_type": "markdown",
   "id": "a340c76f",
   "metadata": {},
   "source": [
    "# Next Word Prediction - NLP - RNN/LSTM"
   ]
  },
  {
   "cell_type": "markdown",
   "id": "c53a0abd",
   "metadata": {},
   "source": [
    "### Importing Libraries"
   ]
  },
  {
   "cell_type": "code",
   "execution_count": 36,
   "id": "d5264b3b",
   "metadata": {},
   "outputs": [],
   "source": [
    "import numpy as np\n",
    "import tensorflow as tf\n",
    "import matplotlib.pyplot as plt\n",
    "import seaborn as sns\n",
    "import nltk\n",
    "from keras.preprocessing.text import Tokenizer\n",
    "from keras.models import Sequential, load_model\n",
    "from keras.layers import Dense, Activation, Embedding, LSTM\n",
    "from keras.layers import LSTM, Dropout\n",
    "from keras.layers import TimeDistributed\n",
    "from keras.layers.core import Dense, Activation, Dropout, RepeatVector\n",
    "from tensorflow.keras.optimizers import Adam\n",
    "import pickle\n",
    "import numpy as np\n",
    "import os\n"
   ]
  },
  {
   "cell_type": "markdown",
   "id": "6fbb8b63",
   "metadata": {},
   "source": [
    "### Importing Data"
   ]
  },
  {
   "cell_type": "code",
   "execution_count": 37,
   "id": "f7ee58ee",
   "metadata": {},
   "outputs": [
    {
     "name": "stdout",
     "output_type": "stream",
     "text": [
      "The First Line:  One morning, when Gregor Samsa woke from troubled dreams, he found\n",
      "\n",
      "The Last Line:  first to get up and stretch out her young body.\n"
     ]
    }
   ],
   "source": [
    "path = 'gutenberg.txt'\n",
    "\n",
    "file = open(path,\"r\",encoding='utf-8')\n",
    "lines = []\n",
    "\n",
    "for i in file:\n",
    "    lines.append(i)\n",
    "    \n",
    "print(\"The First Line: \", lines[0])\n",
    "print(\"The Last Line: \", lines[-1])"
   ]
  },
  {
   "cell_type": "markdown",
   "id": "408b0b9a",
   "metadata": {},
   "source": [
    "### Cleaning Data"
   ]
  },
  {
   "cell_type": "code",
   "execution_count": 38,
   "id": "75d508b5",
   "metadata": {},
   "outputs": [
    {
     "data": {
      "text/plain": [
       "'One morning, when Gregor Samsa woke from troubled dreams, he found himself transformed in his bed into a horrible vermin.  He lay on his armour-like back, and if he lifted his head a little he could see his brown belly, slightly domed and divided by arches into stiff sections.  The bedding was hardly able to cover it and seemed ready to slide off any moment.'"
      ]
     },
     "execution_count": 38,
     "metadata": {},
     "output_type": "execute_result"
    }
   ],
   "source": [
    "data = \"\"\n",
    "\n",
    "for i in lines:\n",
    "    data = ' '. join(lines)\n",
    "    \n",
    "data = data.replace('\\n', '').replace('\\r', '').replace('\\ufeff', '')\n",
    "data[:360]"
   ]
  },
  {
   "cell_type": "code",
   "execution_count": 39,
   "id": "97174f03",
   "metadata": {},
   "outputs": [
    {
     "data": {
      "text/plain": [
       "'One morning  when Gregor Samsa woke from troubled dreams  he found himself transformed in his bed into a horrible vermin   He lay on his armour like back  and if he lifted his head a little he could see his brown belly  slightly domed and divided by arches into stiff sections   The bedding was hardly able to cover it and seemed ready to slide off any moment   His many legs  pitifully thin compared with the size of the rest of him  waved about helplessly as he looked    What s happened to me   he'"
      ]
     },
     "execution_count": 39,
     "metadata": {},
     "output_type": "execute_result"
    }
   ],
   "source": [
    "import string\n",
    "\n",
    "translator = str.maketrans(string.punctuation, ' '*len(string.punctuation)) #map punctuation to space\n",
    "new_data = data.translate(translator)\n",
    "\n",
    "new_data[:500]"
   ]
  },
  {
   "cell_type": "code",
   "execution_count": 40,
   "id": "53c6b1f1",
   "metadata": {},
   "outputs": [
    {
     "data": {
      "text/plain": [
       "'One morning, when Gregor Samsa woke from troubled dreams, he found himself transformed in his bed into a horrible vermin. He lay on armour-like back, and if lifted head little could see brown belly, slightly domed divided by arches stiff sections. The bedding was hardly able to cover it seemed ready slide off any moment. His many legs, pitifully thin compared with the size of rest him, waved about helplessly as looked. \"What\\'s happened me?\" thought. It wasn\\'t dream. room, proper human room altho'"
      ]
     },
     "execution_count": 40,
     "metadata": {},
     "output_type": "execute_result"
    }
   ],
   "source": [
    "z = []\n",
    "\n",
    "for i in data.split():\n",
    "    if i not in z:\n",
    "        z.append(i)\n",
    "        \n",
    "data = ' '.join(z)\n",
    "data[:500]"
   ]
  },
  {
   "cell_type": "markdown",
   "id": "9f3ec6dd",
   "metadata": {},
   "source": [
    "### Keras Tokenization"
   ]
  },
  {
   "cell_type": "code",
   "execution_count": 41,
   "id": "d50b2978",
   "metadata": {},
   "outputs": [
    {
     "data": {
      "text/plain": [
       "[17, 53, 293, 2, 18, 729, 135, 730, 294, 8]"
      ]
     },
     "execution_count": 41,
     "metadata": {},
     "output_type": "execute_result"
    }
   ],
   "source": [
    "tokenizer = Tokenizer()\n",
    "tokenizer.fit_on_texts([data])\n",
    "\n",
    "# saving the tokenizer for predict function.\n",
    "pickle.dump(tokenizer, open('tokenizer1.pkl', 'wb'))\n",
    "\n",
    "sequence_data = tokenizer.texts_to_sequences([data])[0]\n",
    "sequence_data[:10]"
   ]
  },
  {
   "cell_type": "code",
   "execution_count": 42,
   "id": "3cdca2af",
   "metadata": {},
   "outputs": [
    {
     "name": "stdout",
     "output_type": "stream",
     "text": [
      "2617\n"
     ]
    }
   ],
   "source": [
    "vocab_size = len(tokenizer.word_index) + 1\n",
    "print(vocab_size)"
   ]
  },
  {
   "cell_type": "code",
   "execution_count": 43,
   "id": "376b6794",
   "metadata": {},
   "outputs": [
    {
     "name": "stdout",
     "output_type": "stream",
     "text": [
      "The Length of sequences are:  3889\n"
     ]
    },
    {
     "data": {
      "text/plain": [
       "array([[ 17,  53],\n",
       "       [ 53, 293],\n",
       "       [293,   2],\n",
       "       [  2,  18],\n",
       "       [ 18, 729],\n",
       "       [729, 135],\n",
       "       [135, 730],\n",
       "       [730, 294],\n",
       "       [294,   8],\n",
       "       [  8, 731]])"
      ]
     },
     "execution_count": 43,
     "metadata": {},
     "output_type": "execute_result"
    }
   ],
   "source": [
    "sequences = []\n",
    "\n",
    "for i in range(1, len(sequence_data)):\n",
    "    words = sequence_data[i-1:i+1]\n",
    "    sequences.append(words)\n",
    "    \n",
    "print(\"The Length of sequences are: \", len(sequences))\n",
    "sequences = np.array(sequences)    #Convert to Numpy Matrix\n",
    "sequences[:10]"
   ]
  },
  {
   "cell_type": "code",
   "execution_count": 44,
   "id": "e7db3d0e",
   "metadata": {},
   "outputs": [],
   "source": [
    "X = []\n",
    "y = []\n",
    "\n",
    "for i in sequences:\n",
    "    X.append(i[0])\n",
    "    y.append(i[1])\n",
    "    \n",
    "X = np.array(X)\n",
    "y = np.array(y)"
   ]
  },
  {
   "cell_type": "code",
   "execution_count": 45,
   "id": "a0140098",
   "metadata": {},
   "outputs": [
    {
     "name": "stdout",
     "output_type": "stream",
     "text": [
      "The Data is:  [ 17  53 293   2  18]\n",
      "The responses are:  [ 53 293   2  18 729]\n"
     ]
    }
   ],
   "source": [
    "print(\"The Data is: \", X[:5])\n",
    "print(\"The responses are: \", y[:5])"
   ]
  },
  {
   "cell_type": "code",
   "execution_count": 46,
   "id": "223ddb79",
   "metadata": {},
   "outputs": [
    {
     "data": {
      "text/plain": [
       "array([[0., 0., 0., ..., 0., 0., 0.],\n",
       "       [0., 0., 0., ..., 0., 0., 0.],\n",
       "       [0., 0., 1., ..., 0., 0., 0.],\n",
       "       [0., 0., 0., ..., 0., 0., 0.],\n",
       "       [0., 0., 0., ..., 0., 0., 0.]], dtype=float32)"
      ]
     },
     "execution_count": 46,
     "metadata": {},
     "output_type": "execute_result"
    }
   ],
   "source": [
    "y = to_categorical(y, num_classes=vocab_size)\n",
    "y[:5]"
   ]
  },
  {
   "cell_type": "markdown",
   "id": "ef1447ff",
   "metadata": {},
   "source": [
    "### Creating Model"
   ]
  },
  {
   "cell_type": "code",
   "execution_count": 47,
   "id": "d4139694",
   "metadata": {},
   "outputs": [],
   "source": [
    "model = Sequential()\n",
    "model.add(Embedding(vocab_size, 10, input_length=1))\n",
    "model.add(LSTM(1000, return_sequences=True))\n",
    "model.add(LSTM(1000))\n",
    "model.add(Dense(1000, activation='relu'))\n",
    "\n",
    "model.add(Dense(vocab_size, activation='softmax'))\n",
    "\n",
    "# model.compile(loss='categorical_crossentropy', optimizer='adam', metrics=['accuracy'])\n",
    "\n",
    "# model.summary()\n",
    "\n",
    "# return model"
   ]
  },
  {
   "cell_type": "code",
   "execution_count": 48,
   "id": "928d6738",
   "metadata": {},
   "outputs": [
    {
     "name": "stdout",
     "output_type": "stream",
     "text": [
      "Model: \"sequential\"\n",
      "_________________________________________________________________\n",
      " Layer (type)                Output Shape              Param #   \n",
      "=================================================================\n",
      " embedding (Embedding)       (None, 1, 10)             26170     \n",
      "                                                                 \n",
      " lstm (LSTM)                 (None, 1, 1000)           4044000   \n",
      "                                                                 \n",
      " lstm_1 (LSTM)               (None, 1000)              8004000   \n",
      "                                                                 \n",
      " dense (Dense)               (None, 1000)              1001000   \n",
      "                                                                 \n",
      " dense_1 (Dense)             (None, 2617)              2619617   \n",
      "                                                                 \n",
      "=================================================================\n",
      "Total params: 15,694,787\n",
      "Trainable params: 15,694,787\n",
      "Non-trainable params: 0\n",
      "_________________________________________________________________\n"
     ]
    }
   ],
   "source": [
    "model.summary()"
   ]
  },
  {
   "cell_type": "markdown",
   "id": "d8eb1ab5",
   "metadata": {},
   "source": [
    "### Plot The Model:"
   ]
  },
  {
   "cell_type": "code",
   "execution_count": 50,
   "id": "28bd06eb",
   "metadata": {},
   "outputs": [],
   "source": [
    "from tensorflow.keras.callbacks import ModelCheckpoint\n",
    "from tensorflow.keras.callbacks import ReduceLROnPlateau\n",
    "from tensorflow.keras.callbacks import TensorBoard\n",
    "\n",
    "checkpoint = ModelCheckpoint(\"nextword1.h5\", monitor='loss', verbose=1,\n",
    "    save_best_only=True, mode='auto')\n",
    "\n",
    "reduce = ReduceLROnPlateau(monitor='loss', factor=0.2, patience=3, min_lr=0.0001, verbose = 1)\n",
    "\n",
    "logdir='logsnextword1'\n",
    "tensorboard_Visualization = TensorBoard(log_dir=logdir)"
   ]
  },
  {
   "cell_type": "markdown",
   "id": "404341ee",
   "metadata": {},
   "source": [
    "### Compile the Model"
   ]
  },
  {
   "cell_type": "code",
   "execution_count": 54,
   "id": "7a94b65a",
   "metadata": {},
   "outputs": [],
   "source": [
    "model.compile(loss=\"categorical_crossentropy\", optimizer=Adam(learning_rate=0.001),metrics=['accuracy'])"
   ]
  },
  {
   "cell_type": "code",
   "execution_count": 55,
   "id": "980e6556",
   "metadata": {},
   "outputs": [
    {
     "name": "stdout",
     "output_type": "stream",
     "text": [
      "Epoch 1/150\n",
      "58/58 [==============================] - ETA: 0s - loss: 4.2823 - accuracy: 0.0774\n",
      "Epoch 1: loss did not improve from 4.00048\n",
      "58/58 [==============================] - 24s 232ms/step - loss: 4.2823 - accuracy: 0.0774 - val_loss: 4.8981 - val_accuracy: 0.0462 - lr: 0.0010\n",
      "Epoch 2/150\n",
      "58/58 [==============================] - ETA: 0s - loss: 3.5853 - accuracy: 0.1345\n",
      "Epoch 2: loss improved from 4.00048 to 3.58534, saving model to nextword1.h5\n",
      "58/58 [==============================] - 12s 211ms/step - loss: 3.5853 - accuracy: 0.1345 - val_loss: 6.0190 - val_accuracy: 0.0667 - lr: 0.0010\n",
      "Epoch 3/150\n",
      "58/58 [==============================] - ETA: 0s - loss: 3.3678 - accuracy: 0.1416\n",
      "Epoch 3: loss improved from 3.58534 to 3.36784, saving model to nextword1.h5\n",
      "58/58 [==============================] - 12s 203ms/step - loss: 3.3678 - accuracy: 0.1416 - val_loss: 6.6100 - val_accuracy: 0.0513 - lr: 0.0010\n",
      "Epoch 4/150\n",
      "58/58 [==============================] - ETA: 0s - loss: 3.2843 - accuracy: 0.1348\n",
      "Epoch 4: loss improved from 3.36784 to 3.28432, saving model to nextword1.h5\n",
      "58/58 [==============================] - 15s 254ms/step - loss: 3.2843 - accuracy: 0.1348 - val_loss: 7.1018 - val_accuracy: 0.0513 - lr: 0.0010\n",
      "Epoch 5/150\n",
      "58/58 [==============================] - ETA: 0s - loss: 3.1933 - accuracy: 0.1486\n",
      "Epoch 5: loss improved from 3.28432 to 3.19334, saving model to nextword1.h5\n",
      "58/58 [==============================] - 13s 218ms/step - loss: 3.1933 - accuracy: 0.1486 - val_loss: 7.4010 - val_accuracy: 0.0462 - lr: 0.0010\n",
      "Epoch 6/150\n",
      "58/58 [==============================] - ETA: 0s - loss: 3.0747 - accuracy: 0.1681\n",
      "Epoch 6: loss improved from 3.19334 to 3.07472, saving model to nextword1.h5\n",
      "58/58 [==============================] - 12s 210ms/step - loss: 3.0747 - accuracy: 0.1681 - val_loss: 7.6435 - val_accuracy: 0.0615 - lr: 0.0010\n",
      "Epoch 7/150\n",
      "58/58 [==============================] - ETA: 0s - loss: 2.9780 - accuracy: 0.1857\n",
      "Epoch 7: loss improved from 3.07472 to 2.97800, saving model to nextword1.h5\n",
      "58/58 [==============================] - 12s 205ms/step - loss: 2.9780 - accuracy: 0.1857 - val_loss: 7.9837 - val_accuracy: 0.0462 - lr: 0.0010\n",
      "Epoch 8/150\n",
      "58/58 [==============================] - ETA: 0s - loss: 2.9029 - accuracy: 0.1819\n",
      "Epoch 8: loss improved from 2.97800 to 2.90289, saving model to nextword1.h5\n",
      "58/58 [==============================] - 11s 195ms/step - loss: 2.9029 - accuracy: 0.1819 - val_loss: 8.4131 - val_accuracy: 0.0615 - lr: 0.0010\n",
      "Epoch 9/150\n",
      "58/58 [==============================] - ETA: 0s - loss: 2.8100 - accuracy: 0.2030\n",
      "Epoch 9: loss improved from 2.90289 to 2.80998, saving model to nextword1.h5\n",
      "58/58 [==============================] - 11s 188ms/step - loss: 2.8100 - accuracy: 0.2030 - val_loss: 8.6312 - val_accuracy: 0.0462 - lr: 0.0010\n",
      "Epoch 10/150\n",
      "58/58 [==============================] - ETA: 0s - loss: 2.7723 - accuracy: 0.2049\n",
      "Epoch 10: loss improved from 2.80998 to 2.77234, saving model to nextword1.h5\n",
      "58/58 [==============================] - 13s 227ms/step - loss: 2.7723 - accuracy: 0.2049 - val_loss: 8.9180 - val_accuracy: 0.0205 - lr: 0.0010\n",
      "Epoch 11/150\n",
      "58/58 [==============================] - ETA: 0s - loss: 2.7287 - accuracy: 0.2122\n",
      "Epoch 11: loss improved from 2.77234 to 2.72871, saving model to nextword1.h5\n",
      "58/58 [==============================] - 14s 234ms/step - loss: 2.7287 - accuracy: 0.2122 - val_loss: 8.9935 - val_accuracy: 0.0308 - lr: 0.0010\n",
      "Epoch 12/150\n",
      "58/58 [==============================] - ETA: 0s - loss: 2.6535 - accuracy: 0.2193\n",
      "Epoch 12: loss improved from 2.72871 to 2.65354, saving model to nextword1.h5\n",
      "58/58 [==============================] - 11s 186ms/step - loss: 2.6535 - accuracy: 0.2193 - val_loss: 9.1471 - val_accuracy: 0.0513 - lr: 0.0010\n",
      "Epoch 13/150\n",
      "58/58 [==============================] - ETA: 0s - loss: 2.5679 - accuracy: 0.2371\n",
      "Epoch 13: loss improved from 2.65354 to 2.56786, saving model to nextword1.h5\n",
      "58/58 [==============================] - 12s 200ms/step - loss: 2.5679 - accuracy: 0.2371 - val_loss: 9.4650 - val_accuracy: 0.0513 - lr: 0.0010\n",
      "Epoch 14/150\n",
      "58/58 [==============================] - ETA: 0s - loss: 2.5025 - accuracy: 0.2469\n",
      "Epoch 14: loss improved from 2.56786 to 2.50247, saving model to nextword1.h5\n",
      "58/58 [==============================] - 11s 187ms/step - loss: 2.5025 - accuracy: 0.2469 - val_loss: 9.6861 - val_accuracy: 0.0051 - lr: 0.0010\n",
      "Epoch 15/150\n",
      "58/58 [==============================] - ETA: 0s - loss: 2.4515 - accuracy: 0.2534\n",
      "Epoch 15: loss improved from 2.50247 to 2.45152, saving model to nextword1.h5\n",
      "58/58 [==============================] - 9s 154ms/step - loss: 2.4515 - accuracy: 0.2534 - val_loss: 9.9296 - val_accuracy: 0.0256 - lr: 0.0010\n",
      "Epoch 16/150\n",
      "58/58 [==============================] - ETA: 0s - loss: 2.4062 - accuracy: 0.2704\n",
      "Epoch 16: loss improved from 2.45152 to 2.40619, saving model to nextword1.h5\n",
      "58/58 [==============================] - 9s 152ms/step - loss: 2.4062 - accuracy: 0.2704 - val_loss: 10.0014 - val_accuracy: 0.0462 - lr: 0.0010\n",
      "Epoch 17/150\n",
      "58/58 [==============================] - ETA: 0s - loss: 2.3660 - accuracy: 0.2780\n",
      "Epoch 17: loss improved from 2.40619 to 2.36600, saving model to nextword1.h5\n",
      "58/58 [==============================] - 9s 160ms/step - loss: 2.3660 - accuracy: 0.2780 - val_loss: 10.3323 - val_accuracy: 0.0410 - lr: 0.0010\n",
      "Epoch 18/150\n",
      "58/58 [==============================] - ETA: 0s - loss: 2.3276 - accuracy: 0.2932\n",
      "Epoch 18: loss improved from 2.36600 to 2.32761, saving model to nextword1.h5\n",
      "58/58 [==============================] - 8s 144ms/step - loss: 2.3276 - accuracy: 0.2932 - val_loss: 10.6267 - val_accuracy: 0.0205 - lr: 0.0010\n",
      "Epoch 19/150\n",
      "58/58 [==============================] - ETA: 0s - loss: 2.3272 - accuracy: 0.2775\n",
      "Epoch 19: loss improved from 2.32761 to 2.32717, saving model to nextword1.h5\n",
      "58/58 [==============================] - 9s 158ms/step - loss: 2.3272 - accuracy: 0.2775 - val_loss: 10.5368 - val_accuracy: 0.0462 - lr: 0.0010\n",
      "Epoch 20/150\n",
      "58/58 [==============================] - ETA: 0s - loss: 2.2496 - accuracy: 0.2991\n",
      "Epoch 20: loss improved from 2.32717 to 2.24963, saving model to nextword1.h5\n",
      "58/58 [==============================] - 8s 146ms/step - loss: 2.2496 - accuracy: 0.2991 - val_loss: 10.7905 - val_accuracy: 0.0462 - lr: 0.0010\n",
      "Epoch 21/150\n",
      "58/58 [==============================] - ETA: 0s - loss: 2.2185 - accuracy: 0.2953\n",
      "Epoch 21: loss improved from 2.24963 to 2.21853, saving model to nextword1.h5\n",
      "58/58 [==============================] - 8s 144ms/step - loss: 2.2185 - accuracy: 0.2953 - val_loss: 10.8793 - val_accuracy: 0.0308 - lr: 0.0010\n",
      "Epoch 22/150\n",
      "58/58 [==============================] - ETA: 0s - loss: 2.1734 - accuracy: 0.3200\n",
      "Epoch 22: loss improved from 2.21853 to 2.17340, saving model to nextword1.h5\n",
      "58/58 [==============================] - 8s 147ms/step - loss: 2.1734 - accuracy: 0.3200 - val_loss: 11.1221 - val_accuracy: 0.0256 - lr: 0.0010\n",
      "Epoch 23/150\n",
      "58/58 [==============================] - ETA: 0s - loss: 2.1275 - accuracy: 0.3167\n",
      "Epoch 23: loss improved from 2.17340 to 2.12748, saving model to nextword1.h5\n",
      "58/58 [==============================] - 10s 181ms/step - loss: 2.1275 - accuracy: 0.3167 - val_loss: 11.2824 - val_accuracy: 0.0205 - lr: 0.0010\n",
      "Epoch 24/150\n",
      "58/58 [==============================] - ETA: 0s - loss: 2.1361 - accuracy: 0.3170\n",
      "Epoch 24: loss did not improve from 2.12748\n",
      "58/58 [==============================] - 7s 126ms/step - loss: 2.1361 - accuracy: 0.3170 - val_loss: 11.5205 - val_accuracy: 0.0256 - lr: 0.0010\n",
      "Epoch 25/150\n",
      "58/58 [==============================] - ETA: 0s - loss: 2.0895 - accuracy: 0.3297\n",
      "Epoch 25: loss improved from 2.12748 to 2.08951, saving model to nextword1.h5\n",
      "58/58 [==============================] - 8s 143ms/step - loss: 2.0895 - accuracy: 0.3297 - val_loss: 11.5878 - val_accuracy: 0.0205 - lr: 0.0010\n",
      "Epoch 26/150\n",
      "58/58 [==============================] - ETA: 0s - loss: 2.0296 - accuracy: 0.3389\n",
      "Epoch 26: loss improved from 2.08951 to 2.02964, saving model to nextword1.h5\n",
      "58/58 [==============================] - 10s 171ms/step - loss: 2.0296 - accuracy: 0.3389 - val_loss: 11.9414 - val_accuracy: 0.0154 - lr: 0.0010\n"
     ]
    },
    {
     "name": "stdout",
     "output_type": "stream",
     "text": [
      "Epoch 27/150\n",
      "58/58 [==============================] - ETA: 0s - loss: 2.0141 - accuracy: 0.3457\n",
      "Epoch 27: loss improved from 2.02964 to 2.01413, saving model to nextword1.h5\n",
      "58/58 [==============================] - 8s 144ms/step - loss: 2.0141 - accuracy: 0.3457 - val_loss: 11.8898 - val_accuracy: 0.0154 - lr: 0.0010\n",
      "Epoch 28/150\n",
      "58/58 [==============================] - ETA: 0s - loss: 1.9744 - accuracy: 0.3565\n",
      "Epoch 28: loss improved from 2.01413 to 1.97444, saving model to nextword1.h5\n",
      "58/58 [==============================] - 10s 166ms/step - loss: 1.9744 - accuracy: 0.3565 - val_loss: 12.2929 - val_accuracy: 0.0256 - lr: 0.0010\n",
      "Epoch 29/150\n",
      "58/58 [==============================] - ETA: 0s - loss: 1.9676 - accuracy: 0.3584\n",
      "Epoch 29: loss improved from 1.97444 to 1.96757, saving model to nextword1.h5\n",
      "58/58 [==============================] - 8s 144ms/step - loss: 1.9676 - accuracy: 0.3584 - val_loss: 12.1808 - val_accuracy: 0.0154 - lr: 0.0010\n",
      "Epoch 30/150\n",
      "58/58 [==============================] - ETA: 0s - loss: 1.9291 - accuracy: 0.3692\n",
      "Epoch 30: loss improved from 1.96757 to 1.92905, saving model to nextword1.h5\n",
      "58/58 [==============================] - 10s 166ms/step - loss: 1.9291 - accuracy: 0.3692 - val_loss: 12.5754 - val_accuracy: 0.0103 - lr: 0.0010\n",
      "Epoch 31/150\n",
      "58/58 [==============================] - ETA: 0s - loss: 1.9476 - accuracy: 0.3573\n",
      "Epoch 31: loss did not improve from 1.92905\n",
      "58/58 [==============================] - 8s 134ms/step - loss: 1.9476 - accuracy: 0.3573 - val_loss: 12.5637 - val_accuracy: 0.0256 - lr: 0.0010\n",
      "Epoch 32/150\n",
      "58/58 [==============================] - ETA: 0s - loss: 1.9180 - accuracy: 0.3679\n",
      "Epoch 32: loss improved from 1.92905 to 1.91801, saving model to nextword1.h5\n",
      "58/58 [==============================] - 10s 171ms/step - loss: 1.9180 - accuracy: 0.3679 - val_loss: 12.6322 - val_accuracy: 0.0308 - lr: 0.0010\n",
      "Epoch 33/150\n",
      "58/58 [==============================] - ETA: 0s - loss: 1.8645 - accuracy: 0.3730\n",
      "Epoch 33: loss improved from 1.91801 to 1.86454, saving model to nextword1.h5\n",
      "58/58 [==============================] - 10s 167ms/step - loss: 1.8645 - accuracy: 0.3730 - val_loss: 12.8328 - val_accuracy: 0.0205 - lr: 0.0010\n",
      "Epoch 34/150\n",
      "58/58 [==============================] - ETA: 0s - loss: 1.8471 - accuracy: 0.3828\n",
      "Epoch 34: loss improved from 1.86454 to 1.84709, saving model to nextword1.h5\n",
      "58/58 [==============================] - 10s 171ms/step - loss: 1.8471 - accuracy: 0.3828 - val_loss: 13.0772 - val_accuracy: 0.0256 - lr: 0.0010\n",
      "Epoch 35/150\n",
      "58/58 [==============================] - ETA: 0s - loss: 1.8640 - accuracy: 0.3868\n",
      "Epoch 35: loss did not improve from 1.84709\n",
      "58/58 [==============================] - 8s 130ms/step - loss: 1.8640 - accuracy: 0.3868 - val_loss: 12.9352 - val_accuracy: 0.0205 - lr: 0.0010\n",
      "Epoch 36/150\n",
      "58/58 [==============================] - ETA: 0s - loss: 1.8409 - accuracy: 0.3787\n",
      "Epoch 36: loss improved from 1.84709 to 1.84092, saving model to nextword1.h5\n",
      "58/58 [==============================] - 8s 138ms/step - loss: 1.8409 - accuracy: 0.3787 - val_loss: 13.2607 - val_accuracy: 0.0154 - lr: 0.0010\n",
      "Epoch 37/150\n",
      "58/58 [==============================] - ETA: 0s - loss: 1.7712 - accuracy: 0.3950\n",
      "Epoch 37: loss improved from 1.84092 to 1.77119, saving model to nextword1.h5\n",
      "58/58 [==============================] - 8s 145ms/step - loss: 1.7712 - accuracy: 0.3950 - val_loss: 13.2942 - val_accuracy: 0.0154 - lr: 0.0010\n",
      "Epoch 38/150\n",
      "58/58 [==============================] - ETA: 0s - loss: 1.7276 - accuracy: 0.4150\n",
      "Epoch 38: loss improved from 1.77119 to 1.72765, saving model to nextword1.h5\n",
      "58/58 [==============================] - 9s 157ms/step - loss: 1.7276 - accuracy: 0.4150 - val_loss: 13.5013 - val_accuracy: 0.0154 - lr: 0.0010\n",
      "Epoch 39/150\n",
      "58/58 [==============================] - ETA: 0s - loss: 1.7056 - accuracy: 0.4115\n",
      "Epoch 39: loss improved from 1.72765 to 1.70559, saving model to nextword1.h5\n",
      "58/58 [==============================] - 9s 159ms/step - loss: 1.7056 - accuracy: 0.4115 - val_loss: 13.7395 - val_accuracy: 0.0256 - lr: 0.0010\n",
      "Epoch 40/150\n",
      "58/58 [==============================] - ETA: 0s - loss: 1.7001 - accuracy: 0.4134\n",
      "Epoch 40: loss improved from 1.70559 to 1.70010, saving model to nextword1.h5\n",
      "58/58 [==============================] - 9s 157ms/step - loss: 1.7001 - accuracy: 0.4134 - val_loss: 13.8555 - val_accuracy: 0.0256 - lr: 0.0010\n",
      "Epoch 41/150\n",
      "58/58 [==============================] - ETA: 0s - loss: 1.6992 - accuracy: 0.4223\n",
      "Epoch 41: loss improved from 1.70010 to 1.69919, saving model to nextword1.h5\n",
      "58/58 [==============================] - 8s 140ms/step - loss: 1.6992 - accuracy: 0.4223 - val_loss: 13.8522 - val_accuracy: 0.0103 - lr: 0.0010\n",
      "Epoch 42/150\n",
      "58/58 [==============================] - ETA: 0s - loss: 1.6866 - accuracy: 0.4247\n",
      "Epoch 42: loss improved from 1.69919 to 1.68662, saving model to nextword1.h5\n",
      "58/58 [==============================] - 11s 195ms/step - loss: 1.6866 - accuracy: 0.4247 - val_loss: 14.0971 - val_accuracy: 0.0103 - lr: 0.0010\n",
      "Epoch 43/150\n",
      "58/58 [==============================] - ETA: 0s - loss: 1.6497 - accuracy: 0.4239\n",
      "Epoch 43: loss improved from 1.68662 to 1.64974, saving model to nextword1.h5\n",
      "58/58 [==============================] - 9s 149ms/step - loss: 1.6497 - accuracy: 0.4239 - val_loss: 14.1986 - val_accuracy: 0.0154 - lr: 0.0010\n",
      "Epoch 44/150\n",
      "58/58 [==============================] - ETA: 0s - loss: 1.6340 - accuracy: 0.4339\n",
      "Epoch 44: loss improved from 1.64974 to 1.63395, saving model to nextword1.h5\n",
      "58/58 [==============================] - 9s 153ms/step - loss: 1.6340 - accuracy: 0.4339 - val_loss: 14.3107 - val_accuracy: 0.0103 - lr: 0.0010\n",
      "Epoch 45/150\n",
      "58/58 [==============================] - ETA: 0s - loss: 1.6283 - accuracy: 0.4296\n",
      "Epoch 45: loss improved from 1.63395 to 1.62834, saving model to nextword1.h5\n",
      "58/58 [==============================] - 9s 149ms/step - loss: 1.6283 - accuracy: 0.4296 - val_loss: 14.3733 - val_accuracy: 0.0154 - lr: 0.0010\n",
      "Epoch 46/150\n",
      "58/58 [==============================] - ETA: 0s - loss: 1.6382 - accuracy: 0.4256\n",
      "Epoch 46: loss did not improve from 1.62834\n",
      "58/58 [==============================] - 9s 156ms/step - loss: 1.6382 - accuracy: 0.4256 - val_loss: 14.4887 - val_accuracy: 0.0103 - lr: 0.0010\n",
      "Epoch 47/150\n",
      "58/58 [==============================] - ETA: 0s - loss: 1.6037 - accuracy: 0.4315\n",
      "Epoch 47: loss improved from 1.62834 to 1.60368, saving model to nextword1.h5\n",
      "58/58 [==============================] - 8s 143ms/step - loss: 1.6037 - accuracy: 0.4315 - val_loss: 14.5732 - val_accuracy: 0.0103 - lr: 0.0010\n",
      "Epoch 48/150\n",
      "58/58 [==============================] - ETA: 0s - loss: 1.5929 - accuracy: 0.4402\n",
      "Epoch 48: loss improved from 1.60368 to 1.59294, saving model to nextword1.h5\n",
      "58/58 [==============================] - 9s 153ms/step - loss: 1.5929 - accuracy: 0.4402 - val_loss: 14.6748 - val_accuracy: 0.0103 - lr: 0.0010\n",
      "Epoch 49/150\n",
      "58/58 [==============================] - ETA: 0s - loss: 1.5786 - accuracy: 0.4396\n",
      "Epoch 49: loss improved from 1.59294 to 1.57859, saving model to nextword1.h5\n",
      "58/58 [==============================] - 9s 148ms/step - loss: 1.5786 - accuracy: 0.4396 - val_loss: 14.8188 - val_accuracy: 0.0256 - lr: 0.0010\n",
      "Epoch 50/150\n",
      "58/58 [==============================] - ETA: 0s - loss: 1.5439 - accuracy: 0.4545\n",
      "Epoch 50: loss improved from 1.57859 to 1.54389, saving model to nextword1.h5\n",
      "58/58 [==============================] - 9s 159ms/step - loss: 1.5439 - accuracy: 0.4545 - val_loss: 15.1692 - val_accuracy: 0.0103 - lr: 0.0010\n",
      "Epoch 51/150\n",
      "58/58 [==============================] - ETA: 0s - loss: 1.5598 - accuracy: 0.4453\n",
      "Epoch 51: loss did not improve from 1.54389\n",
      "58/58 [==============================] - 8s 143ms/step - loss: 1.5598 - accuracy: 0.4453 - val_loss: 15.2408 - val_accuracy: 0.0205 - lr: 0.0010\n",
      "Epoch 52/150\n",
      "58/58 [==============================] - ETA: 0s - loss: 1.5449 - accuracy: 0.4383\n",
      "Epoch 52: loss did not improve from 1.54389\n",
      "58/58 [==============================] - 7s 128ms/step - loss: 1.5449 - accuracy: 0.4383 - val_loss: 15.0600 - val_accuracy: 0.0103 - lr: 0.0010\n",
      "Epoch 53/150\n"
     ]
    },
    {
     "name": "stdout",
     "output_type": "stream",
     "text": [
      "58/58 [==============================] - ETA: 0s - loss: 1.5442 - accuracy: 0.4450\n",
      "Epoch 53: loss did not improve from 1.54389\n",
      "\n",
      "Epoch 53: ReduceLROnPlateau reducing learning rate to 0.00020000000949949026.\n",
      "58/58 [==============================] - 7s 128ms/step - loss: 1.5442 - accuracy: 0.4450 - val_loss: 15.2553 - val_accuracy: 0.0103 - lr: 0.0010\n",
      "Epoch 54/150\n",
      "58/58 [==============================] - ETA: 0s - loss: 1.1490 - accuracy: 0.5604\n",
      "Epoch 54: loss improved from 1.54389 to 1.14900, saving model to nextword1.h5\n",
      "58/58 [==============================] - 10s 170ms/step - loss: 1.1490 - accuracy: 0.5604 - val_loss: 15.5441 - val_accuracy: 0.0103 - lr: 2.0000e-04\n",
      "Epoch 55/150\n",
      "58/58 [==============================] - ETA: 0s - loss: 0.9962 - accuracy: 0.6021\n",
      "Epoch 55: loss improved from 1.14900 to 0.99622, saving model to nextword1.h5\n",
      "58/58 [==============================] - 9s 159ms/step - loss: 0.9962 - accuracy: 0.6021 - val_loss: 15.7721 - val_accuracy: 0.0103 - lr: 2.0000e-04\n",
      "Epoch 56/150\n",
      "58/58 [==============================] - ETA: 0s - loss: 0.9382 - accuracy: 0.6007\n",
      "Epoch 56: loss improved from 0.99622 to 0.93823, saving model to nextword1.h5\n",
      "58/58 [==============================] - 8s 144ms/step - loss: 0.9382 - accuracy: 0.6007 - val_loss: 16.1645 - val_accuracy: 0.0103 - lr: 2.0000e-04\n",
      "Epoch 57/150\n",
      "58/58 [==============================] - ETA: 0s - loss: 0.9092 - accuracy: 0.6048\n",
      "Epoch 57: loss improved from 0.93823 to 0.90921, saving model to nextword1.h5\n",
      "58/58 [==============================] - 9s 153ms/step - loss: 0.9092 - accuracy: 0.6048 - val_loss: 16.4293 - val_accuracy: 0.0103 - lr: 2.0000e-04\n",
      "Epoch 58/150\n",
      "58/58 [==============================] - ETA: 0s - loss: 0.8891 - accuracy: 0.5983\n",
      "Epoch 58: loss improved from 0.90921 to 0.88909, saving model to nextword1.h5\n",
      "58/58 [==============================] - 9s 151ms/step - loss: 0.8891 - accuracy: 0.5983 - val_loss: 16.7483 - val_accuracy: 0.0103 - lr: 2.0000e-04\n",
      "Epoch 59/150\n",
      "58/58 [==============================] - ETA: 0s - loss: 0.8740 - accuracy: 0.6040\n",
      "Epoch 59: loss improved from 0.88909 to 0.87400, saving model to nextword1.h5\n",
      "58/58 [==============================] - 10s 165ms/step - loss: 0.8740 - accuracy: 0.6040 - val_loss: 17.0545 - val_accuracy: 0.0103 - lr: 2.0000e-04\n",
      "Epoch 60/150\n",
      "58/58 [==============================] - ETA: 0s - loss: 0.8623 - accuracy: 0.5939\n",
      "Epoch 60: loss improved from 0.87400 to 0.86232, saving model to nextword1.h5\n",
      "58/58 [==============================] - 9s 148ms/step - loss: 0.8623 - accuracy: 0.5939 - val_loss: 17.3578 - val_accuracy: 0.0103 - lr: 2.0000e-04\n",
      "Epoch 61/150\n",
      "58/58 [==============================] - ETA: 0s - loss: 0.8537 - accuracy: 0.5994\n",
      "Epoch 61: loss improved from 0.86232 to 0.85374, saving model to nextword1.h5\n",
      "58/58 [==============================] - 10s 168ms/step - loss: 0.8537 - accuracy: 0.5994 - val_loss: 17.6137 - val_accuracy: 0.0103 - lr: 2.0000e-04\n",
      "Epoch 62/150\n",
      "58/58 [==============================] - ETA: 0s - loss: 0.8480 - accuracy: 0.5904\n",
      "Epoch 62: loss improved from 0.85374 to 0.84803, saving model to nextword1.h5\n",
      "58/58 [==============================] - 8s 142ms/step - loss: 0.8480 - accuracy: 0.5904 - val_loss: 17.8328 - val_accuracy: 0.0103 - lr: 2.0000e-04\n",
      "Epoch 63/150\n",
      "58/58 [==============================] - ETA: 0s - loss: 0.8426 - accuracy: 0.5953\n",
      "Epoch 63: loss improved from 0.84803 to 0.84257, saving model to nextword1.h5\n",
      "58/58 [==============================] - 9s 162ms/step - loss: 0.8426 - accuracy: 0.5953 - val_loss: 18.0625 - val_accuracy: 0.0103 - lr: 2.0000e-04\n",
      "Epoch 64/150\n",
      "58/58 [==============================] - ETA: 0s - loss: 0.8370 - accuracy: 0.5926\n",
      "Epoch 64: loss improved from 0.84257 to 0.83699, saving model to nextword1.h5\n",
      "58/58 [==============================] - 12s 213ms/step - loss: 0.8370 - accuracy: 0.5926 - val_loss: 18.2388 - val_accuracy: 0.0103 - lr: 2.0000e-04\n",
      "Epoch 65/150\n",
      "58/58 [==============================] - ETA: 0s - loss: 0.8327 - accuracy: 0.5899\n",
      "Epoch 65: loss improved from 0.83699 to 0.83272, saving model to nextword1.h5\n",
      "58/58 [==============================] - 10s 176ms/step - loss: 0.8327 - accuracy: 0.5899 - val_loss: 18.5116 - val_accuracy: 0.0103 - lr: 2.0000e-04\n",
      "Epoch 66/150\n",
      "58/58 [==============================] - ETA: 0s - loss: 0.8261 - accuracy: 0.5923\n",
      "Epoch 66: loss improved from 0.83272 to 0.82606, saving model to nextword1.h5\n",
      "58/58 [==============================] - 10s 168ms/step - loss: 0.8261 - accuracy: 0.5923 - val_loss: 18.7186 - val_accuracy: 0.0103 - lr: 2.0000e-04\n",
      "Epoch 67/150\n",
      "58/58 [==============================] - ETA: 0s - loss: 0.8248 - accuracy: 0.5926\n",
      "Epoch 67: loss improved from 0.82606 to 0.82483, saving model to nextword1.h5\n",
      "58/58 [==============================] - 9s 160ms/step - loss: 0.8248 - accuracy: 0.5926 - val_loss: 18.9638 - val_accuracy: 0.0103 - lr: 2.0000e-04\n",
      "Epoch 68/150\n",
      "58/58 [==============================] - ETA: 0s - loss: 0.8227 - accuracy: 0.5912\n",
      "Epoch 68: loss improved from 0.82483 to 0.82275, saving model to nextword1.h5\n",
      "58/58 [==============================] - 9s 155ms/step - loss: 0.8227 - accuracy: 0.5912 - val_loss: 19.0797 - val_accuracy: 0.0103 - lr: 2.0000e-04\n",
      "Epoch 69/150\n",
      "58/58 [==============================] - ETA: 0s - loss: 0.8165 - accuracy: 0.5893\n",
      "Epoch 69: loss improved from 0.82275 to 0.81645, saving model to nextword1.h5\n",
      "58/58 [==============================] - 8s 142ms/step - loss: 0.8165 - accuracy: 0.5893 - val_loss: 19.2476 - val_accuracy: 0.0103 - lr: 2.0000e-04\n",
      "Epoch 70/150\n",
      "58/58 [==============================] - ETA: 0s - loss: 0.8121 - accuracy: 0.5842\n",
      "Epoch 70: loss improved from 0.81645 to 0.81208, saving model to nextword1.h5\n",
      "58/58 [==============================] - 8s 143ms/step - loss: 0.8121 - accuracy: 0.5842 - val_loss: 19.5356 - val_accuracy: 0.0103 - lr: 2.0000e-04\n",
      "Epoch 71/150\n",
      "58/58 [==============================] - ETA: 0s - loss: 0.8101 - accuracy: 0.5915\n",
      "Epoch 71: loss improved from 0.81208 to 0.81009, saving model to nextword1.h5\n",
      "58/58 [==============================] - 9s 147ms/step - loss: 0.8101 - accuracy: 0.5915 - val_loss: 19.6518 - val_accuracy: 0.0103 - lr: 2.0000e-04\n",
      "Epoch 72/150\n",
      "58/58 [==============================] - ETA: 0s - loss: 0.8081 - accuracy: 0.5975\n",
      "Epoch 72: loss improved from 0.81009 to 0.80813, saving model to nextword1.h5\n",
      "58/58 [==============================] - 8s 143ms/step - loss: 0.8081 - accuracy: 0.5975 - val_loss: 19.7408 - val_accuracy: 0.0103 - lr: 2.0000e-04\n",
      "Epoch 73/150\n",
      "58/58 [==============================] - ETA: 0s - loss: 0.8031 - accuracy: 0.5880\n",
      "Epoch 73: loss improved from 0.80813 to 0.80315, saving model to nextword1.h5\n",
      "58/58 [==============================] - 9s 149ms/step - loss: 0.8031 - accuracy: 0.5880 - val_loss: 19.9079 - val_accuracy: 0.0103 - lr: 2.0000e-04\n",
      "Epoch 74/150\n",
      "58/58 [==============================] - ETA: 0s - loss: 0.8012 - accuracy: 0.5926\n",
      "Epoch 74: loss improved from 0.80315 to 0.80122, saving model to nextword1.h5\n",
      "58/58 [==============================] - 9s 156ms/step - loss: 0.8012 - accuracy: 0.5926 - val_loss: 20.0724 - val_accuracy: 0.0051 - lr: 2.0000e-04\n",
      "Epoch 75/150\n",
      "58/58 [==============================] - ETA: 0s - loss: 0.8003 - accuracy: 0.5807\n",
      "Epoch 75: loss improved from 0.80122 to 0.80033, saving model to nextword1.h5\n",
      "58/58 [==============================] - 8s 139ms/step - loss: 0.8003 - accuracy: 0.5807 - val_loss: 20.3246 - val_accuracy: 0.0103 - lr: 2.0000e-04\n",
      "Epoch 76/150\n",
      "58/58 [==============================] - ETA: 0s - loss: 0.7994 - accuracy: 0.5864\n",
      "Epoch 76: loss improved from 0.80033 to 0.79938, saving model to nextword1.h5\n",
      "58/58 [==============================] - 8s 139ms/step - loss: 0.7994 - accuracy: 0.5864 - val_loss: 20.4463 - val_accuracy: 0.0103 - lr: 2.0000e-04\n",
      "Epoch 77/150\n",
      "58/58 [==============================] - ETA: 0s - loss: 0.7962 - accuracy: 0.5847\n",
      "Epoch 77: loss improved from 0.79938 to 0.79620, saving model to nextword1.h5\n",
      "58/58 [==============================] - 9s 163ms/step - loss: 0.7962 - accuracy: 0.5847 - val_loss: 20.5202 - val_accuracy: 0.0103 - lr: 2.0000e-04\n",
      "Epoch 78/150\n"
     ]
    },
    {
     "name": "stdout",
     "output_type": "stream",
     "text": [
      "58/58 [==============================] - ETA: 0s - loss: 0.7903 - accuracy: 0.5891\n",
      "Epoch 78: loss improved from 0.79620 to 0.79029, saving model to nextword1.h5\n",
      "58/58 [==============================] - 12s 206ms/step - loss: 0.7903 - accuracy: 0.5891 - val_loss: 20.6545 - val_accuracy: 0.0103 - lr: 2.0000e-04\n",
      "Epoch 79/150\n",
      "58/58 [==============================] - ETA: 0s - loss: 0.7955 - accuracy: 0.5899\n",
      "Epoch 79: loss did not improve from 0.79029\n",
      "58/58 [==============================] - 8s 134ms/step - loss: 0.7955 - accuracy: 0.5899 - val_loss: 20.6878 - val_accuracy: 0.0103 - lr: 2.0000e-04\n",
      "Epoch 80/150\n",
      "58/58 [==============================] - ETA: 0s - loss: 0.7867 - accuracy: 0.5823\n",
      "Epoch 80: loss improved from 0.79029 to 0.78673, saving model to nextword1.h5\n",
      "58/58 [==============================] - 10s 170ms/step - loss: 0.7867 - accuracy: 0.5823 - val_loss: 20.8044 - val_accuracy: 0.0103 - lr: 2.0000e-04\n",
      "Epoch 81/150\n",
      "58/58 [==============================] - ETA: 0s - loss: 0.7886 - accuracy: 0.5964\n",
      "Epoch 81: loss did not improve from 0.78673\n",
      "58/58 [==============================] - 7s 129ms/step - loss: 0.7886 - accuracy: 0.5964 - val_loss: 21.0630 - val_accuracy: 0.0103 - lr: 2.0000e-04\n",
      "Epoch 82/150\n",
      "58/58 [==============================] - ETA: 0s - loss: 0.7836 - accuracy: 0.5915\n",
      "Epoch 82: loss improved from 0.78673 to 0.78358, saving model to nextword1.h5\n",
      "58/58 [==============================] - 10s 173ms/step - loss: 0.7836 - accuracy: 0.5915 - val_loss: 21.0606 - val_accuracy: 0.0103 - lr: 2.0000e-04\n",
      "Epoch 83/150\n",
      "58/58 [==============================] - ETA: 0s - loss: 0.7823 - accuracy: 0.5869\n",
      "Epoch 83: loss improved from 0.78358 to 0.78234, saving model to nextword1.h5\n",
      "58/58 [==============================] - 9s 147ms/step - loss: 0.7823 - accuracy: 0.5869 - val_loss: 21.2489 - val_accuracy: 0.0051 - lr: 2.0000e-04\n",
      "Epoch 84/150\n",
      "58/58 [==============================] - ETA: 0s - loss: 0.7798 - accuracy: 0.5831\n",
      "Epoch 84: loss improved from 0.78234 to 0.77981, saving model to nextword1.h5\n",
      "58/58 [==============================] - 13s 219ms/step - loss: 0.7798 - accuracy: 0.5831 - val_loss: 21.3871 - val_accuracy: 0.0051 - lr: 2.0000e-04\n",
      "Epoch 85/150\n",
      "58/58 [==============================] - ETA: 0s - loss: 0.7795 - accuracy: 0.5845\n",
      "Epoch 85: loss improved from 0.77981 to 0.77951, saving model to nextword1.h5\n",
      "58/58 [==============================] - 12s 203ms/step - loss: 0.7795 - accuracy: 0.5845 - val_loss: 21.5689 - val_accuracy: 0.0051 - lr: 2.0000e-04\n",
      "Epoch 86/150\n",
      "58/58 [==============================] - ETA: 0s - loss: 0.7791 - accuracy: 0.5858\n",
      "Epoch 86: loss improved from 0.77951 to 0.77905, saving model to nextword1.h5\n",
      "58/58 [==============================] - 10s 172ms/step - loss: 0.7791 - accuracy: 0.5858 - val_loss: 21.6264 - val_accuracy: 0.0103 - lr: 2.0000e-04\n",
      "Epoch 87/150\n",
      "58/58 [==============================] - ETA: 0s - loss: 0.7752 - accuracy: 0.5864\n",
      "Epoch 87: loss improved from 0.77905 to 0.77519, saving model to nextword1.h5\n",
      "58/58 [==============================] - 11s 186ms/step - loss: 0.7752 - accuracy: 0.5864 - val_loss: 21.6979 - val_accuracy: 0.0051 - lr: 2.0000e-04\n",
      "Epoch 88/150\n",
      "58/58 [==============================] - ETA: 0s - loss: 0.7728 - accuracy: 0.5861\n",
      "Epoch 88: loss improved from 0.77519 to 0.77282, saving model to nextword1.h5\n",
      "58/58 [==============================] - 11s 189ms/step - loss: 0.7728 - accuracy: 0.5861 - val_loss: 21.8440 - val_accuracy: 0.0051 - lr: 2.0000e-04\n",
      "Epoch 89/150\n",
      "58/58 [==============================] - ETA: 0s - loss: 0.7721 - accuracy: 0.5801\n",
      "Epoch 89: loss improved from 0.77282 to 0.77213, saving model to nextword1.h5\n",
      "58/58 [==============================] - 11s 182ms/step - loss: 0.7721 - accuracy: 0.5801 - val_loss: 21.9110 - val_accuracy: 0.0051 - lr: 2.0000e-04\n",
      "Epoch 90/150\n",
      "58/58 [==============================] - ETA: 0s - loss: 0.7713 - accuracy: 0.5818\n",
      "Epoch 90: loss improved from 0.77213 to 0.77127, saving model to nextword1.h5\n",
      "58/58 [==============================] - 9s 153ms/step - loss: 0.7713 - accuracy: 0.5818 - val_loss: 22.0336 - val_accuracy: 0.0103 - lr: 2.0000e-04\n",
      "Epoch 91/150\n",
      "58/58 [==============================] - ETA: 0s - loss: 0.7663 - accuracy: 0.5861\n",
      "Epoch 91: loss improved from 0.77127 to 0.76629, saving model to nextword1.h5\n",
      "58/58 [==============================] - 12s 201ms/step - loss: 0.7663 - accuracy: 0.5861 - val_loss: 22.0489 - val_accuracy: 0.0103 - lr: 2.0000e-04\n",
      "Epoch 92/150\n",
      "58/58 [==============================] - ETA: 0s - loss: 0.7700 - accuracy: 0.5861\n",
      "Epoch 92: loss did not improve from 0.76629\n",
      "58/58 [==============================] - 9s 148ms/step - loss: 0.7700 - accuracy: 0.5861 - val_loss: 22.1975 - val_accuracy: 0.0051 - lr: 2.0000e-04\n",
      "Epoch 93/150\n",
      "58/58 [==============================] - ETA: 0s - loss: 0.7694 - accuracy: 0.5818\n",
      "Epoch 93: loss did not improve from 0.76629\n",
      "58/58 [==============================] - 9s 159ms/step - loss: 0.7694 - accuracy: 0.5818 - val_loss: 22.1993 - val_accuracy: 0.0051 - lr: 2.0000e-04\n",
      "Epoch 94/150\n",
      "58/58 [==============================] - ETA: 0s - loss: 0.7645 - accuracy: 0.5872\n",
      "Epoch 94: loss improved from 0.76629 to 0.76446, saving model to nextword1.h5\n",
      "58/58 [==============================] - 9s 148ms/step - loss: 0.7645 - accuracy: 0.5872 - val_loss: 22.3858 - val_accuracy: 0.0051 - lr: 2.0000e-04\n",
      "Epoch 95/150\n",
      "58/58 [==============================] - ETA: 0s - loss: 0.7662 - accuracy: 0.5866\n",
      "Epoch 95: loss did not improve from 0.76446\n",
      "58/58 [==============================] - 7s 123ms/step - loss: 0.7662 - accuracy: 0.5866 - val_loss: 22.2173 - val_accuracy: 0.0051 - lr: 2.0000e-04\n",
      "Epoch 96/150\n",
      "58/58 [==============================] - ETA: 0s - loss: 0.7614 - accuracy: 0.5850\n",
      "Epoch 96: loss improved from 0.76446 to 0.76143, saving model to nextword1.h5\n",
      "58/58 [==============================] - 9s 153ms/step - loss: 0.7614 - accuracy: 0.5850 - val_loss: 22.5185 - val_accuracy: 0.0051 - lr: 2.0000e-04\n",
      "Epoch 97/150\n",
      "58/58 [==============================] - ETA: 0s - loss: 0.7598 - accuracy: 0.5820\n",
      "Epoch 97: loss improved from 0.76143 to 0.75975, saving model to nextword1.h5\n",
      "58/58 [==============================] - 8s 141ms/step - loss: 0.7598 - accuracy: 0.5820 - val_loss: 22.5755 - val_accuracy: 0.0051 - lr: 2.0000e-04\n",
      "Epoch 98/150\n",
      "58/58 [==============================] - ETA: 0s - loss: 0.7595 - accuracy: 0.5845\n",
      "Epoch 98: loss improved from 0.75975 to 0.75946, saving model to nextword1.h5\n",
      "58/58 [==============================] - 9s 148ms/step - loss: 0.7595 - accuracy: 0.5845 - val_loss: 22.5550 - val_accuracy: 0.0051 - lr: 2.0000e-04\n",
      "Epoch 99/150\n",
      "58/58 [==============================] - ETA: 0s - loss: 0.7589 - accuracy: 0.5812\n",
      "Epoch 99: loss improved from 0.75946 to 0.75889, saving model to nextword1.h5\n",
      "58/58 [==============================] - 8s 142ms/step - loss: 0.7589 - accuracy: 0.5812 - val_loss: 22.6094 - val_accuracy: 0.0051 - lr: 2.0000e-04\n",
      "Epoch 100/150\n",
      "58/58 [==============================] - ETA: 0s - loss: 0.7569 - accuracy: 0.5831\n",
      "Epoch 100: loss improved from 0.75889 to 0.75690, saving model to nextword1.h5\n",
      "58/58 [==============================] - 10s 164ms/step - loss: 0.7569 - accuracy: 0.5831 - val_loss: 22.7762 - val_accuracy: 0.0051 - lr: 2.0000e-04\n",
      "Epoch 101/150\n",
      "58/58 [==============================] - ETA: 0s - loss: 0.7542 - accuracy: 0.5861\n",
      "Epoch 101: loss improved from 0.75690 to 0.75418, saving model to nextword1.h5\n",
      "58/58 [==============================] - 9s 148ms/step - loss: 0.7542 - accuracy: 0.5861 - val_loss: 22.7202 - val_accuracy: 0.0051 - lr: 2.0000e-04\n",
      "Epoch 102/150\n",
      "58/58 [==============================] - ETA: 0s - loss: 0.7559 - accuracy: 0.5888\n",
      "Epoch 102: loss did not improve from 0.75418\n",
      "58/58 [==============================] - 8s 135ms/step - loss: 0.7559 - accuracy: 0.5888 - val_loss: 22.9246 - val_accuracy: 0.0051 - lr: 2.0000e-04\n",
      "Epoch 103/150\n",
      "58/58 [==============================] - ETA: 0s - loss: 0.7518 - accuracy: 0.5855\n",
      "Epoch 103: loss improved from 0.75418 to 0.75184, saving model to nextword1.h5\n",
      "58/58 [==============================] - 9s 159ms/step - loss: 0.7518 - accuracy: 0.5855 - val_loss: 22.8092 - val_accuracy: 0.0051 - lr: 2.0000e-04\n"
     ]
    },
    {
     "name": "stdout",
     "output_type": "stream",
     "text": [
      "Epoch 104/150\n",
      "58/58 [==============================] - ETA: 0s - loss: 0.7508 - accuracy: 0.5831\n",
      "Epoch 104: loss improved from 0.75184 to 0.75076, saving model to nextword1.h5\n",
      "58/58 [==============================] - 10s 170ms/step - loss: 0.7508 - accuracy: 0.5831 - val_loss: 22.9908 - val_accuracy: 0.0051 - lr: 2.0000e-04\n",
      "Epoch 105/150\n",
      "58/58 [==============================] - ETA: 0s - loss: 0.7525 - accuracy: 0.5826\n",
      "Epoch 105: loss did not improve from 0.75076\n",
      "58/58 [==============================] - 8s 146ms/step - loss: 0.7525 - accuracy: 0.5826 - val_loss: 22.9774 - val_accuracy: 0.0051 - lr: 2.0000e-04\n",
      "Epoch 106/150\n",
      "58/58 [==============================] - ETA: 0s - loss: 0.7486 - accuracy: 0.5877\n",
      "Epoch 106: loss improved from 0.75076 to 0.74861, saving model to nextword1.h5\n",
      "58/58 [==============================] - 8s 141ms/step - loss: 0.7486 - accuracy: 0.5877 - val_loss: 23.0055 - val_accuracy: 0.0051 - lr: 2.0000e-04\n",
      "Epoch 107/150\n",
      "58/58 [==============================] - ETA: 0s - loss: 0.7472 - accuracy: 0.5942\n",
      "Epoch 107: loss improved from 0.74861 to 0.74724, saving model to nextword1.h5\n",
      "58/58 [==============================] - 9s 163ms/step - loss: 0.7472 - accuracy: 0.5942 - val_loss: 23.1184 - val_accuracy: 0.0051 - lr: 2.0000e-04\n",
      "Epoch 108/150\n",
      "58/58 [==============================] - ETA: 0s - loss: 0.7505 - accuracy: 0.5818\n",
      "Epoch 108: loss did not improve from 0.74724\n",
      "58/58 [==============================] - 7s 129ms/step - loss: 0.7505 - accuracy: 0.5818 - val_loss: 23.2026 - val_accuracy: 0.0051 - lr: 2.0000e-04\n",
      "Epoch 109/150\n",
      "58/58 [==============================] - ETA: 0s - loss: 0.7465 - accuracy: 0.5853\n",
      "Epoch 109: loss improved from 0.74724 to 0.74646, saving model to nextword1.h5\n",
      "58/58 [==============================] - 8s 139ms/step - loss: 0.7465 - accuracy: 0.5853 - val_loss: 23.2268 - val_accuracy: 0.0051 - lr: 2.0000e-04\n",
      "Epoch 110/150\n",
      "58/58 [==============================] - ETA: 0s - loss: 0.7453 - accuracy: 0.5823\n",
      "Epoch 110: loss improved from 0.74646 to 0.74529, saving model to nextword1.h5\n",
      "58/58 [==============================] - 9s 153ms/step - loss: 0.7453 - accuracy: 0.5823 - val_loss: 23.4392 - val_accuracy: 0.0051 - lr: 2.0000e-04\n",
      "Epoch 111/150\n",
      "58/58 [==============================] - ETA: 0s - loss: 0.7466 - accuracy: 0.5853\n",
      "Epoch 111: loss did not improve from 0.74529\n",
      "58/58 [==============================] - 8s 131ms/step - loss: 0.7466 - accuracy: 0.5853 - val_loss: 23.2993 - val_accuracy: 0.0051 - lr: 2.0000e-04\n",
      "Epoch 112/150\n",
      "58/58 [==============================] - ETA: 0s - loss: 0.7442 - accuracy: 0.5891\n",
      "Epoch 112: loss improved from 0.74529 to 0.74422, saving model to nextword1.h5\n",
      "58/58 [==============================] - 9s 163ms/step - loss: 0.7442 - accuracy: 0.5891 - val_loss: 23.3134 - val_accuracy: 0.0051 - lr: 2.0000e-04\n",
      "Epoch 113/150\n",
      "58/58 [==============================] - ETA: 0s - loss: 0.7458 - accuracy: 0.5891\n",
      "Epoch 113: loss did not improve from 0.74422\n",
      "58/58 [==============================] - 8s 132ms/step - loss: 0.7458 - accuracy: 0.5891 - val_loss: 23.4741 - val_accuracy: 0.0051 - lr: 2.0000e-04\n",
      "Epoch 114/150\n",
      "58/58 [==============================] - ETA: 0s - loss: 0.7438 - accuracy: 0.5818\n",
      "Epoch 114: loss improved from 0.74422 to 0.74378, saving model to nextword1.h5\n",
      "58/58 [==============================] - 9s 151ms/step - loss: 0.7438 - accuracy: 0.5818 - val_loss: 23.4973 - val_accuracy: 0.0051 - lr: 2.0000e-04\n",
      "Epoch 115/150\n",
      "58/58 [==============================] - ETA: 0s - loss: 0.7389 - accuracy: 0.5872\n",
      "Epoch 115: loss improved from 0.74378 to 0.73892, saving model to nextword1.h5\n",
      "58/58 [==============================] - 9s 161ms/step - loss: 0.7389 - accuracy: 0.5872 - val_loss: 23.4441 - val_accuracy: 0.0051 - lr: 2.0000e-04\n",
      "Epoch 116/150\n",
      "58/58 [==============================] - ETA: 0s - loss: 0.7408 - accuracy: 0.5790\n",
      "Epoch 116: loss did not improve from 0.73892\n",
      "58/58 [==============================] - 7s 125ms/step - loss: 0.7408 - accuracy: 0.5790 - val_loss: 23.4596 - val_accuracy: 0.0051 - lr: 2.0000e-04\n",
      "Epoch 117/150\n",
      "58/58 [==============================] - ETA: 0s - loss: 0.7418 - accuracy: 0.5864\n",
      "Epoch 117: loss did not improve from 0.73892\n",
      "58/58 [==============================] - 7s 126ms/step - loss: 0.7418 - accuracy: 0.5864 - val_loss: 23.6650 - val_accuracy: 0.0051 - lr: 2.0000e-04\n",
      "Epoch 118/150\n",
      "58/58 [==============================] - ETA: 0s - loss: 0.7370 - accuracy: 0.5866\n",
      "Epoch 118: loss improved from 0.73892 to 0.73705, saving model to nextword1.h5\n",
      "58/58 [==============================] - 9s 152ms/step - loss: 0.7370 - accuracy: 0.5866 - val_loss: 23.6811 - val_accuracy: 0.0051 - lr: 2.0000e-04\n",
      "Epoch 119/150\n",
      "58/58 [==============================] - ETA: 0s - loss: 0.7391 - accuracy: 0.5815\n",
      "Epoch 119: loss did not improve from 0.73705\n",
      "58/58 [==============================] - 8s 144ms/step - loss: 0.7391 - accuracy: 0.5815 - val_loss: 23.6900 - val_accuracy: 0.0051 - lr: 2.0000e-04\n",
      "Epoch 120/150\n",
      "58/58 [==============================] - ETA: 0s - loss: 0.7396 - accuracy: 0.5839\n",
      "Epoch 120: loss did not improve from 0.73705\n",
      "58/58 [==============================] - 9s 150ms/step - loss: 0.7396 - accuracy: 0.5839 - val_loss: 23.6690 - val_accuracy: 0.0051 - lr: 2.0000e-04\n",
      "Epoch 121/150\n",
      "58/58 [==============================] - ETA: 0s - loss: 0.7357 - accuracy: 0.5861\n",
      "Epoch 121: loss improved from 0.73705 to 0.73573, saving model to nextword1.h5\n",
      "58/58 [==============================] - 11s 187ms/step - loss: 0.7357 - accuracy: 0.5861 - val_loss: 23.7138 - val_accuracy: 0.0051 - lr: 2.0000e-04\n",
      "Epoch 122/150\n",
      "58/58 [==============================] - ETA: 0s - loss: 0.7371 - accuracy: 0.5818\n",
      "Epoch 122: loss did not improve from 0.73573\n",
      "58/58 [==============================] - 7s 127ms/step - loss: 0.7371 - accuracy: 0.5818 - val_loss: 23.8549 - val_accuracy: 0.0051 - lr: 2.0000e-04\n",
      "Epoch 123/150\n",
      "58/58 [==============================] - ETA: 0s - loss: 0.7407 - accuracy: 0.5858\n",
      "Epoch 123: loss did not improve from 0.73573\n",
      "58/58 [==============================] - 7s 124ms/step - loss: 0.7407 - accuracy: 0.5858 - val_loss: 23.9978 - val_accuracy: 0.0051 - lr: 2.0000e-04\n",
      "Epoch 124/150\n",
      "58/58 [==============================] - ETA: 0s - loss: 0.7346 - accuracy: 0.5904\n",
      "Epoch 124: loss improved from 0.73573 to 0.73464, saving model to nextword1.h5\n",
      "58/58 [==============================] - 8s 142ms/step - loss: 0.7346 - accuracy: 0.5904 - val_loss: 23.9067 - val_accuracy: 0.0051 - lr: 2.0000e-04\n",
      "Epoch 125/150\n",
      "58/58 [==============================] - ETA: 0s - loss: 0.7373 - accuracy: 0.5910\n",
      "Epoch 125: loss did not improve from 0.73464\n",
      "58/58 [==============================] - 8s 134ms/step - loss: 0.7373 - accuracy: 0.5910 - val_loss: 23.9729 - val_accuracy: 0.0051 - lr: 2.0000e-04\n",
      "Epoch 126/150\n",
      "58/58 [==============================] - ETA: 0s - loss: 0.7324 - accuracy: 0.5883\n",
      "Epoch 126: loss improved from 0.73464 to 0.73242, saving model to nextword1.h5\n",
      "58/58 [==============================] - 9s 161ms/step - loss: 0.7324 - accuracy: 0.5883 - val_loss: 23.9041 - val_accuracy: 0.0051 - lr: 2.0000e-04\n",
      "Epoch 127/150\n",
      "58/58 [==============================] - ETA: 0s - loss: 0.7323 - accuracy: 0.5801\n",
      "Epoch 127: loss improved from 0.73242 to 0.73231, saving model to nextword1.h5\n",
      "58/58 [==============================] - 10s 169ms/step - loss: 0.7323 - accuracy: 0.5801 - val_loss: 23.9724 - val_accuracy: 0.0051 - lr: 2.0000e-04\n",
      "Epoch 128/150\n",
      "58/58 [==============================] - ETA: 0s - loss: 0.7335 - accuracy: 0.5842\n",
      "Epoch 128: loss did not improve from 0.73231\n",
      "58/58 [==============================] - 8s 144ms/step - loss: 0.7335 - accuracy: 0.5842 - val_loss: 24.1975 - val_accuracy: 0.0051 - lr: 2.0000e-04\n",
      "Epoch 129/150\n",
      "58/58 [==============================] - ETA: 0s - loss: 0.7303 - accuracy: 0.5812\n",
      "Epoch 129: loss improved from 0.73231 to 0.73028, saving model to nextword1.h5\n",
      "58/58 [==============================] - 9s 152ms/step - loss: 0.7303 - accuracy: 0.5812 - val_loss: 23.9967 - val_accuracy: 0.0051 - lr: 2.0000e-04\n",
      "Epoch 130/150\n",
      "58/58 [==============================] - ETA: 0s - loss: 0.7288 - accuracy: 0.5872\n",
      "Epoch 130: loss improved from 0.73028 to 0.72882, saving model to nextword1.h5\n"
     ]
    },
    {
     "name": "stdout",
     "output_type": "stream",
     "text": [
      "58/58 [==============================] - 8s 146ms/step - loss: 0.7288 - accuracy: 0.5872 - val_loss: 24.0481 - val_accuracy: 0.0051 - lr: 2.0000e-04\n",
      "Epoch 131/150\n",
      "58/58 [==============================] - ETA: 0s - loss: 0.7268 - accuracy: 0.5858\n",
      "Epoch 131: loss improved from 0.72882 to 0.72678, saving model to nextword1.h5\n",
      "58/58 [==============================] - 10s 166ms/step - loss: 0.7268 - accuracy: 0.5858 - val_loss: 24.2237 - val_accuracy: 0.0051 - lr: 2.0000e-04\n",
      "Epoch 132/150\n",
      "58/58 [==============================] - ETA: 0s - loss: 0.7299 - accuracy: 0.5809\n",
      "Epoch 132: loss did not improve from 0.72678\n",
      "58/58 [==============================] - 8s 135ms/step - loss: 0.7299 - accuracy: 0.5809 - val_loss: 24.0743 - val_accuracy: 0.0051 - lr: 2.0000e-04\n",
      "Epoch 133/150\n",
      "58/58 [==============================] - ETA: 0s - loss: 0.7246 - accuracy: 0.5831\n",
      "Epoch 133: loss improved from 0.72678 to 0.72457, saving model to nextword1.h5\n",
      "58/58 [==============================] - 9s 153ms/step - loss: 0.7246 - accuracy: 0.5831 - val_loss: 24.2784 - val_accuracy: 0.0051 - lr: 2.0000e-04\n",
      "Epoch 134/150\n",
      "58/58 [==============================] - ETA: 0s - loss: 0.7275 - accuracy: 0.5820\n",
      "Epoch 134: loss did not improve from 0.72457\n",
      "58/58 [==============================] - 7s 126ms/step - loss: 0.7275 - accuracy: 0.5820 - val_loss: 24.1830 - val_accuracy: 0.0051 - lr: 2.0000e-04\n",
      "Epoch 135/150\n",
      "58/58 [==============================] - ETA: 0s - loss: 0.7238 - accuracy: 0.5850\n",
      "Epoch 135: loss improved from 0.72457 to 0.72378, saving model to nextword1.h5\n",
      "58/58 [==============================] - 8s 142ms/step - loss: 0.7238 - accuracy: 0.5850 - val_loss: 24.0634 - val_accuracy: 0.0051 - lr: 2.0000e-04\n",
      "Epoch 136/150\n",
      "58/58 [==============================] - ETA: 0s - loss: 0.7280 - accuracy: 0.5836\n",
      "Epoch 136: loss did not improve from 0.72378\n",
      "58/58 [==============================] - 8s 139ms/step - loss: 0.7280 - accuracy: 0.5836 - val_loss: 24.2137 - val_accuracy: 0.0051 - lr: 2.0000e-04\n",
      "Epoch 137/150\n",
      "58/58 [==============================] - ETA: 0s - loss: 0.7240 - accuracy: 0.5847\n",
      "Epoch 137: loss did not improve from 0.72378\n",
      "58/58 [==============================] - 8s 138ms/step - loss: 0.7240 - accuracy: 0.5847 - val_loss: 24.3557 - val_accuracy: 0.0051 - lr: 2.0000e-04\n",
      "Epoch 138/150\n",
      "58/58 [==============================] - ETA: 0s - loss: 0.7252 - accuracy: 0.5872\n",
      "Epoch 138: loss did not improve from 0.72378\n",
      "\n",
      "Epoch 138: ReduceLROnPlateau reducing learning rate to 0.0001.\n",
      "58/58 [==============================] - 9s 150ms/step - loss: 0.7252 - accuracy: 0.5872 - val_loss: 24.3479 - val_accuracy: 0.0051 - lr: 2.0000e-04\n",
      "Epoch 139/150\n",
      "58/58 [==============================] - ETA: 0s - loss: 0.6596 - accuracy: 0.5929\n",
      "Epoch 139: loss improved from 0.72378 to 0.65957, saving model to nextword1.h5\n",
      "58/58 [==============================] - 10s 170ms/step - loss: 0.6596 - accuracy: 0.5929 - val_loss: 24.2789 - val_accuracy: 0.0051 - lr: 1.0000e-04\n",
      "Epoch 140/150\n",
      "58/58 [==============================] - ETA: 0s - loss: 0.6560 - accuracy: 0.5877\n",
      "Epoch 140: loss improved from 0.65957 to 0.65601, saving model to nextword1.h5\n",
      "58/58 [==============================] - 11s 182ms/step - loss: 0.6560 - accuracy: 0.5877 - val_loss: 24.4039 - val_accuracy: 0.0051 - lr: 1.0000e-04\n",
      "Epoch 141/150\n",
      "58/58 [==============================] - ETA: 0s - loss: 0.6547 - accuracy: 0.5885\n",
      "Epoch 141: loss improved from 0.65601 to 0.65467, saving model to nextword1.h5\n",
      "58/58 [==============================] - 11s 193ms/step - loss: 0.6547 - accuracy: 0.5885 - val_loss: 24.4461 - val_accuracy: 0.0051 - lr: 1.0000e-04\n",
      "Epoch 142/150\n",
      "58/58 [==============================] - ETA: 0s - loss: 0.6544 - accuracy: 0.5842\n",
      "Epoch 142: loss improved from 0.65467 to 0.65439, saving model to nextword1.h5\n",
      "58/58 [==============================] - 13s 225ms/step - loss: 0.6544 - accuracy: 0.5842 - val_loss: 24.4823 - val_accuracy: 0.0051 - lr: 1.0000e-04\n",
      "Epoch 143/150\n",
      "58/58 [==============================] - ETA: 0s - loss: 0.6514 - accuracy: 0.5850\n",
      "Epoch 143: loss improved from 0.65439 to 0.65137, saving model to nextword1.h5\n",
      "58/58 [==============================] - 10s 171ms/step - loss: 0.6514 - accuracy: 0.5850 - val_loss: 24.5102 - val_accuracy: 0.0051 - lr: 1.0000e-04\n",
      "Epoch 144/150\n",
      "58/58 [==============================] - ETA: 0s - loss: 0.6530 - accuracy: 0.5780\n",
      "Epoch 144: loss did not improve from 0.65137\n",
      "58/58 [==============================] - 9s 148ms/step - loss: 0.6530 - accuracy: 0.5780 - val_loss: 24.6463 - val_accuracy: 0.0051 - lr: 1.0000e-04\n",
      "Epoch 145/150\n",
      "58/58 [==============================] - ETA: 0s - loss: 0.6531 - accuracy: 0.5855\n",
      "Epoch 145: loss did not improve from 0.65137\n",
      "58/58 [==============================] - 7s 127ms/step - loss: 0.6531 - accuracy: 0.5855 - val_loss: 24.7349 - val_accuracy: 0.0051 - lr: 1.0000e-04\n",
      "Epoch 146/150\n",
      "58/58 [==============================] - ETA: 0s - loss: 0.6516 - accuracy: 0.5831\n",
      "Epoch 146: loss did not improve from 0.65137\n",
      "58/58 [==============================] - 8s 137ms/step - loss: 0.6516 - accuracy: 0.5831 - val_loss: 24.6823 - val_accuracy: 0.0051 - lr: 1.0000e-04\n",
      "Epoch 147/150\n",
      "58/58 [==============================] - ETA: 0s - loss: 0.6509 - accuracy: 0.5826\n",
      "Epoch 147: loss improved from 0.65137 to 0.65092, saving model to nextword1.h5\n",
      "58/58 [==============================] - 9s 162ms/step - loss: 0.6509 - accuracy: 0.5826 - val_loss: 24.7005 - val_accuracy: 0.0051 - lr: 1.0000e-04\n",
      "Epoch 148/150\n",
      "58/58 [==============================] - ETA: 0s - loss: 0.6523 - accuracy: 0.5809\n",
      "Epoch 148: loss did not improve from 0.65092\n",
      "58/58 [==============================] - 9s 159ms/step - loss: 0.6523 - accuracy: 0.5809 - val_loss: 24.8502 - val_accuracy: 0.0051 - lr: 1.0000e-04\n",
      "Epoch 149/150\n",
      "58/58 [==============================] - ETA: 0s - loss: 0.6514 - accuracy: 0.5815\n",
      "Epoch 149: loss did not improve from 0.65092\n",
      "58/58 [==============================] - 8s 138ms/step - loss: 0.6514 - accuracy: 0.5815 - val_loss: 24.8371 - val_accuracy: 0.0051 - lr: 1.0000e-04\n",
      "Epoch 150/150\n",
      "58/58 [==============================] - ETA: 0s - loss: 0.6514 - accuracy: 0.5785\n",
      "Epoch 150: loss did not improve from 0.65092\n",
      "58/58 [==============================] - 8s 141ms/step - loss: 0.6514 - accuracy: 0.5785 - val_loss: 24.8512 - val_accuracy: 0.0051 - lr: 1.0000e-04\n"
     ]
    }
   ],
   "source": [
    "history = model.fit(X, y, epochs=150,validation_split=0.05, batch_size=64,shuffle=True, callbacks=[checkpoint, reduce, tensorboard_Visualization]).history"
   ]
  },
  {
   "cell_type": "code",
   "execution_count": 56,
   "id": "4f882c6f",
   "metadata": {},
   "outputs": [],
   "source": [
    "pickle.dump(history, open(\"history.p\", \"wb\"))"
   ]
  },
  {
   "cell_type": "code",
   "execution_count": 57,
   "id": "7f5fc8aa",
   "metadata": {},
   "outputs": [],
   "source": [
    "model = load_model('nextword1.h5')\n",
    "history = pickle.load(open(\"history.p\", \"rb\"))"
   ]
  },
  {
   "cell_type": "code",
   "execution_count": 58,
   "id": "feefefed",
   "metadata": {},
   "outputs": [
    {
     "data": {
      "image/png": "[encoded data removed]",
      "text/plain": [
       "<Figure size 432x288 with 1 Axes>"
      ]
     },
     "metadata": {
      "needs_background": "light"
     },
     "output_type": "display_data"
    }
   ],
   "source": [
    "plt.plot(history['accuracy'])\n",
    "plt.plot(history['val_accuracy'])\n",
    "plt.title('model accuracy')\n",
    "plt.ylabel('accuracy')\n",
    "plt.xlabel('epoch')\n",
    "plt.legend(['train', 'test'], loc='upper left');"
   ]
  },
  {
   "cell_type": "code",
   "execution_count": 59,
   "id": "ec11a704",
   "metadata": {},
   "outputs": [
    {
     "data": {
      "image/png": "[encoded data removed]",
      "text/plain": [
       "<Figure size 432x288 with 1 Axes>"
      ]
     },
     "metadata": {
      "needs_background": "light"
     },
     "output_type": "display_data"
    }
   ],
   "source": [
    "plt.plot(history['loss'])\n",
    "plt.plot(history['val_loss'])\n",
    "plt.title('model loss')\n",
    "plt.ylabel('loss')\n",
    "plt.xlabel('epoch')\n",
    "plt.legend(['train', 'test'], loc='upper left');"
   ]
  },
  {
   "cell_type": "code",
   "execution_count": null,
   "id": "06c2958d",
   "metadata": {},
   "outputs": [],
   "source": []
  }
 ],
 "metadata": {
  "kernelspec": {
   "display_name": "Python 3",
   "language": "python",
   "name": "python3"
  },
  "language_info": {
   "codemirror_mode": {
    "name": "ipython",
    "version": 3
   },
   "file_extension": ".py",
   "mimetype": "text/x-python",
   "name": "python",
   "nbconvert_exporter": "python",
   "pygments_lexer": "ipython3",
   "version": "3.9.2"
  }
 },
 "nbformat": 4,
 "nbformat_minor": 5
}
