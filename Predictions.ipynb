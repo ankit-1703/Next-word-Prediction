{
 "cells": [
  {
   "cell_type": "markdown",
   "id": "a6d627ed",
   "metadata": {},
   "source": [
    "### Creating the Prediction Script:"
   ]
  },
  {
   "cell_type": "code",
   "execution_count": 1,
   "id": "92e62af4",
   "metadata": {},
   "outputs": [],
   "source": [
    "# Importing the Libraries\n",
    "\n",
    "from tensorflow.keras.models import load_model\n",
    "import numpy as np\n",
    "import pickle"
   ]
  },
  {
   "cell_type": "code",
   "execution_count": 11,
   "id": "86da8b81",
   "metadata": {},
   "outputs": [],
   "source": [
    "# Load the model and tokenizer\n",
    "\n",
    "model = load_model('nextword1.h5')\n",
    "tokenizer = pickle.load(open('tokenizer1.pkl', 'rb'))\n",
    "\n",
    "def Predict_Next_Words(model, tokenizer, text):\n",
    "    \"\"\"\n",
    "        In this function we are using the tokenizer and models trained\n",
    "        and we are creating the sequence of the text entered and then\n",
    "        using our model to predict and return the the predicted word.\n",
    "    \n",
    "    \"\"\"\n",
    "    for i in range(3):\n",
    "        sequence = tokenizer.texts_to_sequences([text])[0]\n",
    "        sequence = np.array(sequence)\n",
    "        \n",
    "        preds = (model.predict(sequence))\n",
    "        \n",
    "#         print(preds)\n",
    "        predicted_word = \"\"\n",
    "        \n",
    "        for key, value in tokenizer.word_index.items():\n",
    "            if value in preds:\n",
    "                predicted_word = key\n",
    "                break\n",
    "        \n",
    "        print(predicted_word)\n",
    "        return predicted_word"
   ]
  },
  {
   "cell_type": "code",
   "execution_count": 4,
   "id": "57305f9f",
   "metadata": {},
   "outputs": [],
   "source": [
    "quotes = [\n",
    "    \"He won't be any happier there than he was here. I could not walk any farther. I can't eat any more pizza.\",\n",
    "    \"I'm not upset that you lied to me, I'm upset that from now on I can't believe you.\",\n",
    "    \"And those who were seen dancing were thought to be insane by those who could not hear the music.\",\n",
    "    \"It is hard enough to remember my opinions, without also remembering my reasons for them!\"\n",
    "]\n"
   ]
  },
  {
   "cell_type": "code",
   "execution_count": 12,
   "id": "7757d996",
   "metadata": {},
   "outputs": [
    {
     "name": "stdout",
     "output_type": "stream",
     "text": [
      "he won't be any happier there than he wa\n",
      "1/1 [==============================] - 1s 736ms/step\n",
      "\n",
      "\n",
      "\n",
      "i'm not upset that you lied to me, i'm u\n",
      "1/1 [==============================] - 0s 17ms/step\n",
      "\n",
      "\n",
      "\n",
      "and those who were seen dancing were tho\n",
      "1/1 [==============================] - 0s 18ms/step\n",
      "\n",
      "\n",
      "\n",
      "it is hard enough to remember my opinion\n",
      "1/1 [==============================] - 0s 23ms/step\n",
      "\n",
      "\n",
      "\n"
     ]
    }
   ],
   "source": [
    "for q in quotes:\n",
    "    seq = q[:40].lower()\n",
    "    print(seq)\n",
    "    print(Predict_Next_Words(model, tokenizer, seq))\n",
    "    print()\n",
    "\n",
    "# while(True):\n",
    "\n",
    "#     text = input(\"Enter your line: \")\n",
    "    \n",
    "#     if text == \"stop the script\":\n",
    "#         print(\"Ending The Program.....\")\n",
    "#         break\n",
    "    \n",
    "#     else:\n",
    "#         try:\n",
    "#             text = text.split(\" \")\n",
    "#             text = text[-1]\n",
    "\n",
    "#             text = ''.join(text)\n",
    "#             Predict_Next_Words(model, tokenizer, text)\n",
    "            \n",
    "#         except:\n",
    "#             continue"
   ]
  },
  {
   "cell_type": "code",
   "execution_count": null,
   "id": "8f717107",
   "metadata": {},
   "outputs": [],
   "source": []
  }
 ],
 "metadata": {
  "kernelspec": {
   "display_name": "Python 3",
   "language": "python",
   "name": "python3"
  },
  "language_info": {
   "codemirror_mode": {
    "name": "ipython",
    "version": 3
   },
   "file_extension": ".py",
   "mimetype": "text/x-python",
   "name": "python",
   "nbconvert_exporter": "python",
   "pygments_lexer": "ipython3",
   "version": "3.9.2"
  }
 },
 "nbformat": 4,
 "nbformat_minor": 5
}
